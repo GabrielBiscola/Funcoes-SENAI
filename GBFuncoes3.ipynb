{
  "nbformat": 4,
  "nbformat_minor": 0,
  "metadata": {
    "colab": {
      "provenance": []
    },
    "kernelspec": {
      "name": "python3",
      "display_name": "Python 3"
    },
    "language_info": {
      "name": "python"
    }
  },
  "cells": [
    {
      "cell_type": "code",
      "execution_count": null,
      "metadata": {
        "colab": {
          "base_uri": "https://localhost:8080/"
        },
        "id": "gvw4W7VZZ0KT",
        "outputId": "51303db0-0c1c-4059-d389-8ec14a707a11"
      },
      "outputs": [
        {
          "output_type": "stream",
          "name": "stdout",
          "text": [
            "Tabuada de ...9\n",
            "0 x 9 = 0\n",
            "1 x 9 = 9\n",
            "2 x 9 = 18\n",
            "3 x 9 = 27\n",
            "4 x 9 = 36\n",
            "5 x 9 = 45\n",
            "6 x 9 = 54\n",
            "7 x 9 = 63\n",
            "8 x 9 = 72\n",
            "9 x 9 = 81\n",
            "10 x 9 = 90\n"
          ]
        }
      ],
      "source": [
        "#1\n",
        "def tabuada(n, m = 0):\n",
        "  \"\"\"\n",
        "  Feito de forma recursiva,\n",
        "  cada repetição soma +1 ao multiplicador\n",
        "  até o limite de 10. Quando atinge 11,\n",
        "  encerra a repetição.\n",
        "  \"\"\"\n",
        "  if n == 1:\n",
        "    return 1\n",
        "  elif n == 0 or n > 10:\n",
        "    return None\n",
        "  else:\n",
        "    if m == 11:\n",
        "      return\n",
        "    else:\n",
        "      print(f'{m} x {n} = {n*m}')\n",
        "      return tabuada(n, m + 1)\n",
        "tabuada(int(input(\"Tabuada de \")))"
      ]
    },
    {
      "cell_type": "code",
      "source": [
        "#2\n",
        "def triangulo(n): #printará linhas. Quero fazer de modo recursivo.\n",
        "  a = (N+1)-n\n",
        "  if a == N+1:\n",
        "    return None\n",
        "  else:\n",
        "    print(a * (f'{a} '))\n",
        "    return (triangulo(n-1))\n",
        "\n",
        "N = int(input())\n",
        "triangulo(N)"
      ],
      "metadata": {
        "colab": {
          "base_uri": "https://localhost:8080/"
        },
        "id": "Hs8d00V0bf5F",
        "outputId": "1287c6e3-a74a-4acf-9428-c80480bb7e5a"
      },
      "execution_count": null,
      "outputs": [
        {
          "output_type": "stream",
          "name": "stdout",
          "text": [
            "3\n",
            "1 \n",
            "2 2 \n",
            "3 3 3 \n"
          ]
        }
      ]
    },
    {
      "cell_type": "code",
      "source": [
        "#3\n",
        "def triangulo2(n):\n",
        "  if n <= N:\n",
        "    print(' '.join([str(x) for x in range (1, n+1)]))\n",
        "    return triangulo2(n+1)\n",
        "  else:\n",
        "    return\n",
        "\n",
        "N = int(input())\n",
        "triangulo2(N - (N - 1))"
      ],
      "metadata": {
        "id": "xPFFpCIajiRD",
        "colab": {
          "base_uri": "https://localhost:8080/"
        },
        "outputId": "3bdad4a6-f1ae-4885-91c7-528c4f96623e"
      },
      "execution_count": null,
      "outputs": [
        {
          "output_type": "stream",
          "name": "stdout",
          "text": [
            "3\n",
            "1\n",
            "1 2\n",
            "1 2 3\n"
          ]
        }
      ]
    },
    {
      "cell_type": "code",
      "source": [
        "#4-Segundos\n",
        "def conversor(t, h = 0, m = 0, s = 0):\n",
        "  if t > 3600:\n",
        "    h = t // 3600\n",
        "    return conversor((t - (h * 3600)), h)\n",
        "  elif t >= 60:\n",
        "    m = t // 60\n",
        "    return conversor((t - (m * 60)), h, m)\n",
        "  else:\n",
        "    s = t\n",
        "    return h, m, s\n",
        "\n",
        "tempo = (int(input('Entre com o tempo em segundos: ')))\n",
        "h, m, s = conversor(tempo)\n",
        "print(f'{h} hora(s),  {m} minuto(s) {s} segundo(s)')"
      ],
      "metadata": {
        "colab": {
          "base_uri": "https://localhost:8080/"
        },
        "id": "DudQmF1BKxBj",
        "outputId": "0cb28ca4-3bac-49b7-b3f1-90aff5588c93"
      },
      "execution_count": null,
      "outputs": [
        {
          "output_type": "stream",
          "name": "stdout",
          "text": [
            "Entre com o tempo em segundos: 5000\n",
            "1 hora(s),  23 minuto(s) 20 segundo(s)\n"
          ]
        }
      ]
    },
    {
      "cell_type": "code",
      "source": [
        "#5\n",
        "def verifica(x):\n",
        "  if x % 1 != 0 or x < 0:\n",
        "    return False\n",
        "  else:\n",
        "    for i in range(2, int(x)//2):\n",
        "      if x % i == 0:\n",
        "        return False\n",
        "    return True\n",
        "\n",
        "n = float(input(\"Entre com um numero natural primo: \"))\n",
        "verifica(n)"
      ],
      "metadata": {
        "colab": {
          "base_uri": "https://localhost:8080/"
        },
        "id": "O1BSZNBuPHtD",
        "outputId": "5d91e8f2-e1ba-4ee6-db81-1c443980cf27"
      },
      "execution_count": null,
      "outputs": [
        {
          "name": "stdout",
          "output_type": "stream",
          "text": [
            "Entre com um numero natural primo: 7\n"
          ]
        },
        {
          "output_type": "execute_result",
          "data": {
            "text/plain": [
              "True"
            ]
          },
          "metadata": {},
          "execution_count": 6
        }
      ]
    },
    {
      "cell_type": "code",
      "source": [
        "#6\n",
        "def digitos(n, qnt = 0):\n",
        "  temp = n // 10\n",
        "  if n == 0:\n",
        "    temp = n % 10\n",
        "    if temp != 0:\n",
        "      return qnt+1\n",
        "    else:\n",
        "      return qnt\n",
        "  else:\n",
        "    qnt += 1\n",
        "    return digitos(temp, qnt)\n",
        "\n",
        "digitos(int(input(\"Digite um numero natural: \")))"
      ],
      "metadata": {
        "colab": {
          "base_uri": "https://localhost:8080/"
        },
        "id": "lXApZ6phPIwF",
        "outputId": "83fa1790-b4d9-4ba9-b613-35201d0da6b4"
      },
      "execution_count": null,
      "outputs": [
        {
          "name": "stdout",
          "output_type": "stream",
          "text": [
            "Digite um numero natural: 111\n"
          ]
        },
        {
          "output_type": "execute_result",
          "data": {
            "text/plain": [
              "3"
            ]
          },
          "metadata": {},
          "execution_count": 7
        }
      ]
    },
    {
      "cell_type": "code",
      "source": [
        "#7\n",
        "def todos_iguais(sequencia):\n",
        "  for i in range(len(sequencia)):\n",
        "    for j in range(len(sequencia)):\n",
        "      if i == j and i == len(sequencia) - 1:\n",
        "        return True\n",
        "      if sequencia[i] != sequencia[j]:\n",
        "        return False\n",
        "\n",
        "sequencia = []\n",
        "while True:\n",
        "  if todos_iguais(sequencia) == False:\n",
        "    break\n",
        "  else:\n",
        "    sequencia.append(int(input()))"
      ],
      "metadata": {
        "colab": {
          "base_uri": "https://localhost:8080/"
        },
        "id": "VuDhjvycYbr8",
        "outputId": "0a8eeac2-c745-4b97-d6c5-d5d3b792b4f9"
      },
      "execution_count": null,
      "outputs": [
        {
          "name": "stdout",
          "output_type": "stream",
          "text": [
            "2\n",
            "2\n",
            "3\n"
          ]
        }
      ]
    },
    {
      "cell_type": "code",
      "source": [
        "\n",
        "#8\n",
        "def todos_diferentes(sequencia):\n",
        "  for i in range(len(sequencia)):\n",
        "    for j in range(len(sequencia)):\n",
        "      if i != j:\n",
        "        if sequencia[i] == sequencia[j]:\n",
        "          return False\n",
        "      if i == j and i == len(sequencia):\n",
        "        return True\n",
        "\n",
        "sequencia = []\n",
        "while True:\n",
        "  if todos_diferentes(sequencia) == False:\n",
        "    break\n",
        "  else:\n",
        "    sequencia.append(int(input()))"
      ],
      "metadata": {
        "colab": {
          "base_uri": "https://localhost:8080/"
        },
        "id": "k0i5p2Bbc_qd",
        "outputId": "e4da16dc-5e25-4999-9a67-5d9a447536a3"
      },
      "execution_count": null,
      "outputs": [
        {
          "name": "stdout",
          "output_type": "stream",
          "text": [
            "2\n",
            "2\n"
          ]
        }
      ]
    },
    {
      "cell_type": "code",
      "source": [
        "#9\n",
        "def indice_elemento(n, lista):\n",
        "  for i in range(len(lista)):\n",
        "    if n == lista[i]:\n",
        "      return i\n",
        "  return -1\n",
        "\n",
        "lista = [1, 3, 4, 5, 6, 11, 23, 44]\n",
        "indice_elemento(int(input()), lista)"
      ],
      "metadata": {
        "colab": {
          "base_uri": "https://localhost:8080/"
        },
        "id": "16g8gZReZnbE",
        "outputId": "35b7efdd-830f-4d70-fa82-8384e08840b7"
      },
      "execution_count": null,
      "outputs": [
        {
          "name": "stdout",
          "output_type": "stream",
          "text": [
            "4\n"
          ]
        },
        {
          "output_type": "execute_result",
          "data": {
            "text/plain": [
              "2"
            ]
          },
          "metadata": {},
          "execution_count": 10
        }
      ]
    },
    {
      "cell_type": "code",
      "source": [
        "#10 - Menor potencia de 2 maior ou igual a n\n",
        "def pot2(n, i = 1):\n",
        "  if 2**i >= n:\n",
        "    return 2**i\n",
        "  else:\n",
        "    return pot2(n, i+1)\n",
        "\n",
        "n = int(input())\n",
        "x=pot2(n)\n",
        "print(x)"
      ],
      "metadata": {
        "colab": {
          "base_uri": "https://localhost:8080/"
        },
        "id": "zvtB55MjnfMJ",
        "outputId": "9a97a695-6fb2-47fd-f654-b4275337ac39"
      },
      "execution_count": null,
      "outputs": [
        {
          "output_type": "stream",
          "name": "stdout",
          "text": [
            "30\n",
            "32\n"
          ]
        }
      ]
    },
    {
      "cell_type": "code",
      "source": [
        "#11 Numeros cousins (ou prime numeros)\n",
        "def fatoracao(n):\n",
        "  fatores = []\n",
        "  while n != 1:\n",
        "    if n % 2 == 0:\n",
        "      n //= 2\n",
        "      fatores.append(2)\n",
        "      continue\n",
        "    else:\n",
        "      for i in range(3, (n+1), 2):\n",
        "        if n % i == 0:\n",
        "          n //= i\n",
        "          fatores.append(i)\n",
        "          break\n",
        "  return fatores\n",
        "\n",
        "fatoracao(int(input(\"Digite um número inteiro.\")))"
      ],
      "metadata": {
        "id": "zwluufNAxFyF",
        "colab": {
          "base_uri": "https://localhost:8080/"
        },
        "outputId": "b2540823-ea35-45ee-cea0-ece8dbeff850"
      },
      "execution_count": 1,
      "outputs": [
        {
          "name": "stdout",
          "output_type": "stream",
          "text": [
            "Digite um número inteiro.1\n"
          ]
        },
        {
          "output_type": "execute_result",
          "data": {
            "text/plain": [
              "[]"
            ]
          },
          "metadata": {},
          "execution_count": 1
        }
      ]
    },
    {
      "cell_type": "code",
      "source": [
        "#12\n",
        "def maiorN(lista, N):\n",
        "    lista.sort()\n",
        "    maior = lista[-N]\n",
        "    return maior\n",
        "\n",
        "lista = [5, -1, 7, 0, -3, 9]\n",
        "N = 2\n",
        "print(f'Em {lista} o {N}º maior valor é {maiorN(lista, N)}')"
      ],
      "metadata": {
        "id": "WLA2-12pY_p9",
        "colab": {
          "base_uri": "https://localhost:8080/"
        },
        "outputId": "e9563bf0-35b0-4f4a-ae6b-b6eec1c49aa6"
      },
      "execution_count": 15,
      "outputs": [
        {
          "output_type": "stream",
          "name": "stdout",
          "text": [
            "Em [5, -1, 7, 0, -3, 9] o 2º maior valor é 7\n"
          ]
        }
      ]
    },
    {
      "cell_type": "code",
      "source": [
        "#13\n",
        "def div(m, n):\n",
        "  m = int(input())\n",
        "  n = int(input())\n",
        "  def contador(x = 0):\n",
        "    if n * x >= m:\n",
        "      if n*x > n:\n",
        "        return x-1\n",
        "      else:\n",
        "        return x\n",
        "    return contador(x+1)\n",
        "  return m, n, contador()\n",
        "\n",
        " #Vou treinar 'unpacking'\n",
        "result = div(None, None)\n",
        "m, n, quotient = result\n",
        "print(f\"A divisão inteira de {m} por {n} é: {quotient}\")"
      ],
      "metadata": {
        "id": "O_NK7fH6ZAhG",
        "colab": {
          "base_uri": "https://localhost:8080/"
        },
        "outputId": "28f29496-eb57-42f5-981b-5592783c5661"
      },
      "execution_count": 31,
      "outputs": [
        {
          "output_type": "stream",
          "name": "stdout",
          "text": [
            "13\n",
            "4\n",
            "A divisão inteira de 13 por 4 é: 3\n",
            "(13, 4, 3)\n"
          ]
        }
      ]
    },
    {
      "cell_type": "code",
      "source": [
        "#14\n",
        "def imc(peso, altura):\n",
        "  imc = round((peso / (altura**2)), 1)\n",
        "\n",
        "  def nivel(i):\n",
        "    if i < 18.8:\n",
        "      return \"Magreza\"\n",
        "    elif i <= 25:\n",
        "      return \"Normal\"\n",
        "    elif i <= 30:\n",
        "      return \"Sobrepeso\"\n",
        "    elif i <= 40:\n",
        "      return \"Obesidade\"\n",
        "    else:\n",
        "      return \"Obesidade grave\"\n",
        "  print(f\"IMC = {imc}\\nClassificação = {nivel(imc)}\")\n",
        "  return imc, nivel(imc)\n",
        "\n",
        "peso, altura = 59, 1.64\n",
        "imc(peso, altura)"
      ],
      "metadata": {
        "id": "_WR7eribZBzj",
        "colab": {
          "base_uri": "https://localhost:8080/"
        },
        "outputId": "505f7603-8aa6-4933-ffb7-0de335e11fac"
      },
      "execution_count": 38,
      "outputs": [
        {
          "output_type": "stream",
          "name": "stdout",
          "text": [
            "IMC = 21.9\n",
            "Classificação = Normal\n"
          ]
        },
        {
          "output_type": "execute_result",
          "data": {
            "text/plain": [
              "(21.9, 'Normal')"
            ]
          },
          "metadata": {},
          "execution_count": 38
        }
      ]
    },
    {
      "cell_type": "code",
      "source": [
        "#15\n",
        "def raiz(N, show = False):\n",
        "  x = 1\n",
        "  contador = 1\n",
        "  while abs(N - x**2) >= 1e-9:\n",
        "    if show:\n",
        "      print(f\"x_{contador} = {x}\")\n",
        "      contador += 1\n",
        "    x = 1/2 * (x + (N/x))\n",
        "\n",
        "  return x\n",
        "\n",
        "\n",
        "print(raiz(int(input(\"Digite um número > 0:\"))))"
      ],
      "metadata": {
        "id": "8VuB2bZeZCqO",
        "colab": {
          "base_uri": "https://localhost:8080/"
        },
        "outputId": "be0917f4-d8cb-4d9d-ce4c-501940dda006"
      },
      "execution_count": 49,
      "outputs": [
        {
          "output_type": "stream",
          "name": "stdout",
          "text": [
            "Digite um número > 0:9\n",
            "3.0\n"
          ]
        }
      ]
    }
  ]
}