{
  "nbformat": 4,
  "nbformat_minor": 0,
  "metadata": {
    "colab": {
      "provenance": []
    },
    "kernelspec": {
      "name": "python3",
      "display_name": "Python 3"
    },
    "language_info": {
      "name": "python"
    }
  },
  "cells": [
    {
      "cell_type": "code",
      "execution_count": null,
      "metadata": {
        "id": "eWgNppI-9WQs"
      },
      "outputs": [],
      "source": [
        "def saudacao(nome):\n",
        "  print('Olá,', nome)\n",
        "\n",
        "nome = str(input('Qual é o seu nome'))\n",
        "saudacao(nome)"
      ]
    },
    {
      "cell_type": "code",
      "source": [
        "def alterna(n):\n",
        "  sinal = 1\n",
        "  for i in range (n+1):\n",
        "    print(i*sinal, end = \" \")\n",
        "    sinal *= -1\n",
        "\n",
        "numero = int(input('Qual é o número'))\n",
        "alterna(numero)"
      ],
      "metadata": {
        "id": "pgc5Z2B8-Emy"
      },
      "execution_count": null,
      "outputs": []
    },
    {
      "cell_type": "code",
      "source": [
        "def perimetro_retangulo(a, b):\n",
        "  perimetro = 2*(a+b)\n",
        "  return perimetro\n",
        "\n",
        "a = int(input('Lado a:'))\n",
        "b = int(input('Lado b:'))\n",
        "print(perimetro_retangulo(a, b))"
      ],
      "metadata": {
        "id": "u7qgjt9T-SQg"
      },
      "execution_count": null,
      "outputs": []
    },
    {
      "cell_type": "code",
      "source": [
        "def saudacao(nome, mensagem):\n",
        "  print('Ola,', nome, '\\b!', mensagem)\n",
        "\n",
        "saudacao('Joao', 'Como voce esta?')\n",
        "saudacao(mensagem=\"Tudo bem?\", nome='Maria')"
      ],
      "metadata": {
        "id": "RwhRzvYN-w9I"
      },
      "execution_count": null,
      "outputs": []
    },
    {
      "cell_type": "code",
      "source": [
        "def saudacao(nome, mensagem='Bom dia!'): #Default\n",
        "  print('Ola,', nome, '\\b!', mensagem)\n",
        "\n",
        "saudacao('Maria')\n",
        "saudacao('Pedro', 'Boa Tarde')"
      ],
      "metadata": {
        "id": "ktv6-uIL-24Y"
      },
      "execution_count": null,
      "outputs": []
    },
    {
      "cell_type": "code",
      "source": [
        "def soma_pn(valores):\n",
        "  soma_p = 0\n",
        "  soma_n = 0\n",
        "  for n in valores:\n",
        "    if n > 0:\n",
        "      soma_p += n\n",
        "    else:\n",
        "      soma_n += n\n",
        "\n",
        "  return soma_p, soma_n\n",
        "\n",
        "valores = [2, -1, 3, -4]\n",
        "soma_p, soma_n = soma_pn(valores)\n",
        "print(f'Soma dos positivos = {soma_p}\\nSoma dos negativos = {soma_n}')"
      ],
      "metadata": {
        "id": "ttRu8pGK-7Jk"
      },
      "execution_count": null,
      "outputs": []
    },
    {
      "cell_type": "code",
      "source": [
        "#Soma normal e soma ao quadrado\n",
        "def somas(valores):\n",
        "  soma = 0\n",
        "  soma2 = 0\n",
        "  for i in valores:\n",
        "    soma += i\n",
        "    soma2 += i**2 #numero ao quadrado\n",
        "\n",
        "  return soma, soma2\n",
        "\n",
        "valores = [2, -1, 3, -4]\n",
        "soma, soma2 = somas(valores)\n",
        "print(f'Soma = {soma}\\nSoma2 = {soma2}')"
      ],
      "metadata": {
        "id": "xRKmHnpw--58"
      },
      "execution_count": null,
      "outputs": []
    },
    {
      "cell_type": "code",
      "source": [
        "#Versao compacta do exercício anterior\n",
        "def somas(valores):\n",
        "  return sum(valores), sum([x**2 for x in valores])\n",
        "\n",
        "valores = [2, -1, 3, -4]\n",
        "print(somas(valores))"
      ],
      "metadata": {
        "id": "aqqS_9Xd_OVg"
      },
      "execution_count": null,
      "outputs": []
    },
    {
      "cell_type": "code",
      "source": [
        "#Funções aninhadas\n",
        "def calculadora(operador):\n",
        "  def operacao(a, b):\n",
        "    return eval(f'{a} {operador} {b}')\n",
        "  return operacao #o return ativa a segunda função\n",
        "\n",
        "soma = calculadora('+')\n",
        "print(soma(5, 3))\n",
        "\n",
        "subtracao = calculadora('-')\n",
        "print(subtracao(10, 4))\n",
        "\n",
        "multiplicacao = calculadora('*')\n",
        "print(multiplicacao(6, 7))\n",
        "\n",
        "divisao = calculadora('/')\n",
        "print(divisao(20, 4))"
      ],
      "metadata": {
        "colab": {
          "base_uri": "https://localhost:8080/",
          "height": 211
        },
        "id": "g5sqdf-6_QuA",
        "outputId": "2c2113ba-447e-4720-aa7f-d87e26517115"
      },
      "execution_count": 2,
      "outputs": [
        {
          "output_type": "error",
          "ename": "TypeError",
          "evalue": "'NoneType' object is not callable",
          "traceback": [
            "\u001b[0;31m---------------------------------------------------------------------------\u001b[0m",
            "\u001b[0;31mTypeError\u001b[0m                                 Traceback (most recent call last)",
            "\u001b[0;32m<ipython-input-2-672238fdb5e3>\u001b[0m in \u001b[0;36m<cell line: 9>\u001b[0;34m()\u001b[0m\n\u001b[1;32m      7\u001b[0m \u001b[0;34m\u001b[0m\u001b[0m\n\u001b[1;32m      8\u001b[0m \u001b[0msoma\u001b[0m \u001b[0;34m=\u001b[0m \u001b[0mcalculadora\u001b[0m\u001b[0;34m(\u001b[0m\u001b[0;34m'+'\u001b[0m\u001b[0;34m)\u001b[0m\u001b[0;34m\u001b[0m\u001b[0;34m\u001b[0m\u001b[0m\n\u001b[0;32m----> 9\u001b[0;31m \u001b[0mprint\u001b[0m\u001b[0;34m(\u001b[0m\u001b[0msoma\u001b[0m\u001b[0;34m(\u001b[0m\u001b[0;36m5\u001b[0m\u001b[0;34m,\u001b[0m \u001b[0;36m3\u001b[0m\u001b[0;34m)\u001b[0m\u001b[0;34m)\u001b[0m\u001b[0;34m\u001b[0m\u001b[0;34m\u001b[0m\u001b[0m\n\u001b[0m\u001b[1;32m     10\u001b[0m \u001b[0;34m\u001b[0m\u001b[0m\n\u001b[1;32m     11\u001b[0m \u001b[0msubtracao\u001b[0m \u001b[0;34m=\u001b[0m \u001b[0mcalculadora\u001b[0m\u001b[0;34m(\u001b[0m\u001b[0;34m'-'\u001b[0m\u001b[0;34m)\u001b[0m\u001b[0;34m\u001b[0m\u001b[0;34m\u001b[0m\u001b[0m\n",
            "\u001b[0;31mTypeError\u001b[0m: 'NoneType' object is not callable"
          ]
        }
      ]
    },
    {
      "cell_type": "code",
      "source": [
        "#Recursão Potências\n",
        "def potencia(a, b):\n",
        "  if b == 0:\n",
        "    return 1\n",
        "  else:\n",
        "    return a * potencia(a, b-1)\n",
        "print(potencia(2,6))"
      ],
      "metadata": {
        "id": "qyuJnchdBCP4",
        "colab": {
          "base_uri": "https://localhost:8080/"
        },
        "outputId": "fa3fd7e6-702e-4555-ed23-426ffafe79de"
      },
      "execution_count": 3,
      "outputs": [
        {
          "output_type": "stream",
          "name": "stdout",
          "text": [
            "64\n"
          ]
        }
      ]
    },
    {
      "cell_type": "code",
      "source": [
        "#lambda\n",
        "celsius_para_fahrenheit = lambda x : (x*1.8)+32\n",
        "print(celsius_para_fahrenheit(0))\n",
        "print(celsius_para_fahrenheit(21))\n",
        "print(celsius_para_fahrenheit(100))"
      ],
      "metadata": {
        "id": "dnqGT4wS85Z8"
      },
      "execution_count": null,
      "outputs": []
    },
    {
      "cell_type": "code",
      "source": [
        "#Calculo de pi\n",
        "def estima_pi(n):\n",
        "  x = 0\n",
        "  sinal = -1\n",
        "  for i in range (n):\n",
        "    if i == 0:\n",
        "      continue\n",
        "    x += 1/((2*i)+1)*sinal\n",
        "    sinal *= -1\n",
        "  x = abs(x)\n",
        "  return 4*(1-x)\n",
        "\n",
        "estima_pi(100)"
      ],
      "metadata": {
        "colab": {
          "base_uri": "https://localhost:8080/"
        },
        "id": "4Nrq0Quv9Sym",
        "outputId": "f23ff7b0-0ff7-400b-d16e-6814a8c93ada"
      },
      "execution_count": 40,
      "outputs": [
        {
          "output_type": "execute_result",
          "data": {
            "text/plain": [
              "3.131592903558553"
            ]
          },
          "metadata": {},
          "execution_count": 40
        }
      ]
    },
    {
      "cell_type": "code",
      "source": [
        "#Extração de raiz quadrada\n",
        "def raiz(N):\n",
        "  x = 1\n",
        "  a = 1\n",
        "  while abs(x*x - N) > 1e-9: #Enquanto a diferença o quadrado do x encontrado e o N for maior do que 10^-9, o processo de aproximação / extração continuará\n",
        "    x = 1/2 * (x + N/x) #Média das aproximações\n",
        "    a +=1\n",
        "  return x\n",
        "\n",
        "raiz(2)"
      ],
      "metadata": {
        "colab": {
          "base_uri": "https://localhost:8080/"
        },
        "id": "AKD7I55-9Ucw",
        "outputId": "c47d1c11-67ff-4b0a-f485-4017b3ce68ab"
      },
      "execution_count": 4,
      "outputs": [
        {
          "output_type": "execute_result",
          "data": {
            "text/plain": [
              "1.4142135623746899"
            ]
          },
          "metadata": {},
          "execution_count": 4
        }
      ]
    },
    {
      "cell_type": "code",
      "source": [
        "#Teorema de pitágoras utilizando a função anterior para extrair a raiz\n",
        "def pitagoras(a, b):\n",
        "  return raiz((a**2)+(b**2))\n",
        "\n",
        "a, b = 3, 4\n",
        "c=pitagoras(c1, c2)\n",
        "print(f'C = {c:.2f}')"
      ],
      "metadata": {
        "colab": {
          "base_uri": "https://localhost:8080/"
        },
        "id": "CqeVCIUg9j_w",
        "outputId": "4045f97b-9860-4084-99d6-3a0c56768d29"
      },
      "execution_count": 6,
      "outputs": [
        {
          "output_type": "stream",
          "name": "stdout",
          "text": [
            "C = 5.00\n"
          ]
        }
      ]
    },
    {
      "cell_type": "code",
      "source": [
        "#Resolução da equação do segundo grau\n",
        "def eqgrau2 (a, b, c):\n",
        "  delta = (b**2)+(-4*a*c)\n",
        "  if delta < 0:\n",
        "    print(\"Delta menor do que zero!\")\n",
        "    return None\n",
        "  deltaraiz = raiz(delta)\n",
        "  result1 = (-b + deltaraiz)/2*a\n",
        "  result2 = (-b - deltaraiz)/2*a\n",
        "  return result1, result2\n",
        "\n",
        "eqgrau2(1, 1, 1)"
      ],
      "metadata": {
        "colab": {
          "base_uri": "https://localhost:8080/",
          "height": 176
        },
        "id": "WxkDiNno-7p-",
        "outputId": "433afba3-ac8c-4af6-d566-b4fe914e1ebc"
      },
      "execution_count": 15,
      "outputs": [
        {
          "output_type": "error",
          "ename": "TypeError",
          "evalue": "unsupported format string passed to NoneType.__format__",
          "traceback": [
            "\u001b[0;31m---------------------------------------------------------------------------\u001b[0m",
            "\u001b[0;31mTypeError\u001b[0m                                 Traceback (most recent call last)",
            "\u001b[0;32m<ipython-input-15-27ebf05e63e7>\u001b[0m in \u001b[0;36m<cell line: 11>\u001b[0;34m()\u001b[0m\n\u001b[1;32m      9\u001b[0m   \u001b[0;32mreturn\u001b[0m \u001b[0mresult1\u001b[0m\u001b[0;34m,\u001b[0m \u001b[0mresult2\u001b[0m\u001b[0;34m\u001b[0m\u001b[0;34m\u001b[0m\u001b[0m\n\u001b[1;32m     10\u001b[0m \u001b[0;34m\u001b[0m\u001b[0m\n\u001b[0;32m---> 11\u001b[0;31m \u001b[0mprint\u001b[0m\u001b[0;34m(\u001b[0m\u001b[0;34mf'{eqgrau2(1, 1, 1):.2f}'\u001b[0m\u001b[0;34m)\u001b[0m\u001b[0;34m\u001b[0m\u001b[0;34m\u001b[0m\u001b[0m\n\u001b[0m",
            "\u001b[0;31mTypeError\u001b[0m: unsupported format string passed to NoneType.__format__"
          ]
        }
      ]
    },
    {
      "cell_type": "code",
      "source": [
        "#Soma\n",
        "def soma_recursiva(n):\n",
        "  if n == 1:\n",
        "    return 1\n",
        "  else:\n",
        "    return n + soma_recursiva(n-1)\n",
        "\n",
        "def soma_iterativa(n):\n",
        "  soma = 0\n",
        "  for i in range(n+1):\n",
        "    soma += i\n",
        "  return soma\n",
        "\n",
        "print(soma_recursiva(100))\n",
        "print(soma_iterativa(100))"
      ],
      "metadata": {
        "colab": {
          "base_uri": "https://localhost:8080/"
        },
        "id": "vdWj54Z2_Tzc",
        "outputId": "cd065987-ec4b-4688-d051-657dbcf522af"
      },
      "execution_count": 16,
      "outputs": [
        {
          "output_type": "stream",
          "name": "stdout",
          "text": [
            "5050\n",
            "5050\n"
          ]
        }
      ]
    },
    {
      "cell_type": "code",
      "source": [
        "#Fibonacci\n",
        "def fibonacci(n):\n",
        "  if n == 1:\n",
        "    return 1\n",
        "  if n == 2:\n",
        "    return 1\n",
        "  return fibonacci(n-1) + fibonacci (n-2)\n",
        "[fibonacci(n) for n in range(1,11)]"
      ],
      "metadata": {
        "id": "ORK_dTarBI-G"
      },
      "execution_count": null,
      "outputs": []
    }
  ]
}